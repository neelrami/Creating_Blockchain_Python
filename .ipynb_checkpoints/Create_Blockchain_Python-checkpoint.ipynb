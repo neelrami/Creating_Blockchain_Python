{
 "cells": [
  {
   "cell_type": "code",
   "execution_count": 1,
   "metadata": {},
   "outputs": [
    {
     "name": "stdout",
     "output_type": "stream",
     "text": [
      "2.7.14 |Anaconda, Inc.| (default, Oct 15 2017, 03:34:40) [MSC v.1500 64 bit (AMD64)]\n"
     ]
    }
   ],
   "source": [
    "import sys\n",
    "print(sys.version)"
   ]
  },
  {
   "cell_type": "markdown",
   "metadata": {},
   "source": [
    "# Importing Libraries"
   ]
  },
  {
   "cell_type": "code",
   "execution_count": 2,
   "metadata": {
    "collapsed": true
   },
   "outputs": [],
   "source": [
    "import json\n",
    "import datetime\n",
    "import hashlib\n",
    "from flask import Flask,jsonify"
   ]
  },
  {
   "cell_type": "markdown",
   "metadata": {},
   "source": [
    "# Creating Blockchain Class"
   ]
  },
  {
   "cell_type": "code",
   "execution_count": 3,
   "metadata": {
    "collapsed": true
   },
   "outputs": [],
   "source": [
    "class BlockChain:\n",
    "    def __init__(self):\n",
    "        \n",
    "        # list to contain blocks of blockchain\n",
    "        self.chain=[] \n",
    "        \n",
    "        # method is declared inside init because we want to create genesis block when the blockchain is initialized.\n",
    "        self.create_block(nonce=1,previous_hash='0')\n",
    "        \n",
    "        \n",
    "    def my_dict(self, somedict, somekeys):\n",
    "        return dict([ (k, somedict[k]) for k in somekeys ])\n",
    "    \n",
    "    # method to create hash of block\n",
    "    def hash_block(self, block):\n",
    "        somekeys=['index','timestamp','nonce','previous_hash']\n",
    "        truncated_block=self.my_dict(block,somekeys)\n",
    "        encoded_block = json.dumps(truncated_block, sort_keys = True).encode()\n",
    "        return hashlib.sha256(encoded_block).hexdigest()\n",
    "    \n",
    "    # method to create blocks of blockchain\n",
    "    def create_block(self, nonce, previous_hash):\n",
    "        block={'index':len(self.chain)+1,\n",
    "              'timestamp': str(datetime.datetime.now()),\n",
    "              'nonce':nonce,\n",
    "              'previous_hash':previous_hash}\n",
    "        current_hash=self.hash_block(block)\n",
    "        block.update({'current_hash':current_hash})\n",
    "        self.chain.append(block)\n",
    "        return block\n",
    "    \n",
    "    # method to get last block of blockchain\n",
    "    def get_previous_block(self):\n",
    "        return self.chain[-1]\n",
    "        \n",
    "    # method which states cryptographic puzzle.This puzzle needs to be solved by miners inorder to get the nonce.\n",
    "    def cryptographic_puzzle(self, previous_proof):\n",
    "        new_proof = 1\n",
    "        check_proof = False\n",
    "        while check_proof is False:\n",
    "            hash_operation = hashlib.sha256(str(new_proof**2 - previous_proof**2).encode()).hexdigest()\n",
    "            if hash_operation[:4] == '0000':\n",
    "                check_proof = True\n",
    "            else:\n",
    "                new_proof += 1\n",
    "        return new_proof\n",
    "    \n",
    "    # method to check if the blockchain is valid or not\n",
    "    def is_chain_valid(self, chain):\n",
    "        previous_block = chain[0]\n",
    "        block_index = 1\n",
    "        while block_index < len(chain):\n",
    "            block = chain[block_index]\n",
    "            if block['previous_hash'] != self.hash(previous_block):\n",
    "                return False\n",
    "            previous_proof = previous_block['proof']\n",
    "            proof = block['proof']\n",
    "            hash_operation = hashlib.sha256(str(proof**2 - previous_proof**2).encode()).hexdigest()\n",
    "            if hash_operation[:4] != '0000':\n",
    "                return False\n",
    "            previous_block = block\n",
    "            block_index += 1\n",
    "        return True\n",
    "\n"
   ]
  },
  {
   "cell_type": "markdown",
   "metadata": {
    "collapsed": true
   },
   "source": [
    "# Creating Web Application"
   ]
  },
  {
   "cell_type": "code",
   "execution_count": 4,
   "metadata": {
    "collapsed": true
   },
   "outputs": [],
   "source": [
    "app = Flask(__name__)"
   ]
  },
  {
   "cell_type": "markdown",
   "metadata": {},
   "source": [
    "# Creating Blockchain"
   ]
  },
  {
   "cell_type": "code",
   "execution_count": 5,
   "metadata": {
    "collapsed": true
   },
   "outputs": [],
   "source": [
    "blockchain = BlockChain()"
   ]
  },
  {
   "cell_type": "code",
   "execution_count": 6,
   "metadata": {
    "collapsed": true
   },
   "outputs": [],
   "source": [
    "@app.route('/mine_block', methods = ['GET'])\n",
    "def mine_block():\n",
    "    previous_block = blockchain.get_previous_block()\n",
    "    previous_nonce = previous_block['nonce']\n",
    "    nonce = blockchain.cryptographic_puzzle(previous_nonce)\n",
    "    previous_hash = blockchain.hash_block(previous_block)\n",
    "    block = blockchain.create_block(nonce, previous_hash)\n",
    "    response = {'message': 'Block mined successfully!',\n",
    "                'index': block['index'],\n",
    "                'timestamp': block['timestamp'],\n",
    "                'nonce': block['nonce'],\n",
    "                'previous_hash': block['previous_hash'],\n",
    "                'current_hash': block['current_hash']}\n",
    "    return jsonify(response), 200"
   ]
  },
  {
   "cell_type": "code",
   "execution_count": 7,
   "metadata": {
    "collapsed": true
   },
   "outputs": [],
   "source": [
    "@app.route('/get_chain', methods = ['GET'])\n",
    "def get_chain():\n",
    "    response = {'chain': blockchain.chain,\n",
    "                'length': len(blockchain.chain)}\n",
    "    return jsonify(response), 200"
   ]
  },
  {
   "cell_type": "code",
   "execution_count": 8,
   "metadata": {
    "collapsed": true
   },
   "outputs": [],
   "source": [
    "@app.route('/is_valid', methods = ['GET'])\n",
    "def is_valid():\n",
    "    is_valid = blockchain.is_chain_valid(blockchain.chain)\n",
    "    if is_valid:\n",
    "        response = {'message': 'The Blockchain is valid.'}\n",
    "    else:\n",
    "        response = {'message': 'The Blockchain is not valid.'}\n",
    "    return jsonify(response), 200"
   ]
  },
  {
   "cell_type": "code",
   "execution_count": null,
   "metadata": {},
   "outputs": [
    {
     "name": "stderr",
     "output_type": "stream",
     "text": [
      " * Running on http://0.0.0.0:5000/ (Press CTRL+C to quit)\n",
      "127.0.0.1 - - [31/Aug/2018 09:09:56] \"GET /get_chain HTTP/1.1\" 200 -\n",
      "127.0.0.1 - - [31/Aug/2018 09:11:12] \"GET /mine_chain HTTP/1.1\" 404 -\n"
     ]
    }
   ],
   "source": [
    "app.run(host = '0.0.0.0', port = 5000)"
   ]
  },
  {
   "cell_type": "code",
   "execution_count": null,
   "metadata": {
    "collapsed": true
   },
   "outputs": [],
   "source": []
  }
 ],
 "metadata": {
  "kernelspec": {
   "display_name": "Python [conda root]",
   "language": "python",
   "name": "conda-root-py"
  },
  "language_info": {
   "codemirror_mode": {
    "name": "ipython",
    "version": 2
   },
   "file_extension": ".py",
   "mimetype": "text/x-python",
   "name": "python",
   "nbconvert_exporter": "python",
   "pygments_lexer": "ipython2",
   "version": "2.7.14"
  }
 },
 "nbformat": 4,
 "nbformat_minor": 2
}
